{
 "cells": [
  {
   "cell_type": "code",
   "execution_count": 2,
   "id": "3702289b",
   "metadata": {},
   "outputs": [
    {
     "name": "stdout",
     "output_type": "stream",
     "text": [
      "\u001b[0m\u001b[01;34mfast_api\u001b[0m/    \u001b[01;31msql.zip\u001b[0m         \u001b[01;34mweek_0\u001b[0m/  \u001b[01;34mweek_3\u001b[0m/  \u001b[01;34mweek_6\u001b[0m/  \u001b[01;34mweek_9\u001b[0m/\r\n",
      "poetry.lock  sql.zip.dvc     \u001b[01;34mweek_1\u001b[0m/  \u001b[01;34mweek_4\u001b[0m/  \u001b[01;34mweek_7\u001b[0m/\r\n",
      "README.md    Untitled.ipynb  \u001b[01;34mweek_2\u001b[0m/  \u001b[01;34mweek_5\u001b[0m/  \u001b[01;34mweek_8\u001b[0m/\r\n"
     ]
    }
   ],
   "source": [
    "ls"
   ]
  },
  {
   "cell_type": "code",
   "execution_count": 6,
   "id": "53d60e5f",
   "metadata": {},
   "outputs": [
    {
     "data": {
      "text/plain": [
       "['Command',\n",
       " 'Distribution',\n",
       " 'DistutilsOptionError',\n",
       " 'Extension',\n",
       " 'PEP420PackageFinder',\n",
       " 'PackageFinder',\n",
       " 'Require',\n",
       " 'SetuptoolsDeprecationWarning',\n",
       " '_Command',\n",
       " '__all__',\n",
       " '__builtins__',\n",
       " '__cached__',\n",
       " '__doc__',\n",
       " '__file__',\n",
       " '__loader__',\n",
       " '__name__',\n",
       " '__package__',\n",
       " '__path__',\n",
       " '__spec__',\n",
       " '__version__',\n",
       " '_convert_path',\n",
       " '_deprecation_warning',\n",
       " '_distutils',\n",
       " '_distutils_hack',\n",
       " '_entry_points',\n",
       " '_find_all_simple',\n",
       " '_imp',\n",
       " '_importlib',\n",
       " '_install_setup_requires',\n",
       " '_itertools',\n",
       " '_reqs',\n",
       " '_vendor',\n",
       " 'bootstrap_install_from',\n",
       " 'command',\n",
       " 'config',\n",
       " 'convert_path',\n",
       " 'depends',\n",
       " 'discovery',\n",
       " 'dist',\n",
       " 'distutils',\n",
       " 'errors',\n",
       " 'extension',\n",
       " 'extern',\n",
       " 'find_namespace_packages',\n",
       " 'find_packages',\n",
       " 'findall',\n",
       " 'functools',\n",
       " 'logging',\n",
       " 'monkey',\n",
       " 'msvc',\n",
       " 'os',\n",
       " 'py34compat',\n",
       " 're',\n",
       " 'setup',\n",
       " 'setuptools',\n",
       " 'sic',\n",
       " 'version',\n",
       " 'warnings',\n",
       " 'windows_support']"
      ]
     },
     "execution_count": 6,
     "metadata": {},
     "output_type": "execute_result"
    }
   ],
   "source": [
    "import setuptools\n",
    "dir(setuptools)"
   ]
  },
  {
   "cell_type": "code",
   "execution_count": null,
   "id": "d8ee566d",
   "metadata": {},
   "outputs": [],
   "source": []
  }
 ],
 "metadata": {
  "kernelspec": {
   "display_name": "Python 3 (ipykernel)",
   "language": "python",
   "name": "python3"
  },
  "language_info": {
   "codemirror_mode": {
    "name": "ipython",
    "version": 3
   },
   "file_extension": ".py",
   "mimetype": "text/x-python",
   "name": "python",
   "nbconvert_exporter": "python",
   "pygments_lexer": "ipython3",
   "version": "3.9.12"
  }
 },
 "nbformat": 4,
 "nbformat_minor": 5
}
